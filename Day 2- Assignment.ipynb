{
 "cells": [
  {
   "cell_type": "markdown",
   "metadata": {},
   "source": [
    "Q 1-> what is the time complexity of given code:\n",
    "    int a=0,b=0;\n",
    "    for(i=0;i<N;i++)\n",
    "        a=a+1;\n",
    "    for(j=0;j<M;j++)\n",
    "        b=b+j;"
   ]
  },
  {
   "cell_type": "raw",
   "metadata": {},
   "source": [
    "The time complexity of given code is: O(N)+O(M) which is O(N+M)"
   ]
  },
  {
   "cell_type": "markdown",
   "metadata": {},
   "source": [
    "Q 3-> Write Python prog to print even no. in list"
   ]
  },
  {
   "cell_type": "code",
   "execution_count": 5,
   "metadata": {},
   "outputs": [
    {
     "name": "stdout",
     "output_type": "stream",
     "text": [
      "12  6  144  "
     ]
    }
   ],
   "source": [
    "list1=[12,3,55,6,144]\n",
    "for n in list1:\n",
    "    if n % 2 ==0:\n",
    "        print(n , end=\"  \")"
   ]
  },
  {
   "cell_type": "code",
   "execution_count": 6,
   "metadata": {},
   "outputs": [
    {
     "name": "stdout",
     "output_type": "stream",
     "text": [
      "2  10  "
     ]
    }
   ],
   "source": [
    "list2=[2,10,9,37]\n",
    "for n in list2:\n",
    "    if n % 2 ==0:\n",
    "        print(n , end=\"  \")"
   ]
  },
  {
   "cell_type": "raw",
   "metadata": {},
   "source": [
    "Q 2->What does it mean when we say that an algorithm X is asymptotically more efficient than Y?\n",
    "a)X will be a better choice for all inputs\n",
    "b)X will be a better choice for all inputs except possibly small inputs\n",
    "c)X will be a better choice for all inputs except possibly large inputs\n",
    "d)Y will be a better choice for small inputs"
   ]
  },
  {
   "cell_type": "raw",
   "metadata": {},
   "source": [
    "Ans-> b)X will be a better choice for all inputs except possibly small inputs"
   ]
  },
  {
   "cell_type": "code",
   "execution_count": null,
   "metadata": {},
   "outputs": [],
   "source": []
  }
 ],
 "metadata": {
  "kernelspec": {
   "display_name": "Python 3",
   "language": "python",
   "name": "python3"
  },
  "language_info": {
   "codemirror_mode": {
    "name": "ipython",
    "version": 3
   },
   "file_extension": ".py",
   "mimetype": "text/x-python",
   "name": "python",
   "nbconvert_exporter": "python",
   "pygments_lexer": "ipython3",
   "version": "3.7.6"
  }
 },
 "nbformat": 4,
 "nbformat_minor": 4
}
