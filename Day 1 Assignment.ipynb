{
 "cells": [
  {
   "cell_type": "markdown",
   "metadata": {},
   "source": [
    "Q 1->Python program take 2 no. as the input & print the resul of add,sub,div,mul."
   ]
  },
  {
   "cell_type": "code",
   "execution_count": 1,
   "metadata": {},
   "outputs": [
    {
     "name": "stdout",
     "output_type": "stream",
     "text": [
      "enter the first no.: 23\n",
      "enter the second no.: 6\n",
      "Addition is:  29\n",
      "Substraction is:  17\n",
      "Multiplication is.:  138\n",
      "Division is.:  3\n"
     ]
    }
   ],
   "source": [
    "a=int(input(\"enter the first no.: \"))\n",
    "b=int(input(\"enter the second no.: \"))\n",
    "print(\"Addition is: \", a+b)\n",
    "print(\"Substraction is: \", a-b)\n",
    "print(\"Multiplication is.: \",a*b)\n",
    "print(\"Division is.: \",a//b)"
   ]
  },
  {
   "cell_type": "markdown",
   "metadata": {},
   "source": [
    "Q 2-> take 2 no. as input such as x & y &print the result of x^y "
   ]
  },
  {
   "cell_type": "code",
   "execution_count": 2,
   "metadata": {},
   "outputs": [
    {
     "name": "stdout",
     "output_type": "stream",
     "text": [
      "enter the first no.: 4\n",
      "enter the second no.: 2\n",
      "4  to the power of  2  is:  16\n"
     ]
    }
   ],
   "source": [
    "x=int(input(\"enter the first no.: \"))\n",
    "y=int(input(\"enter the second no.: \"))\n",
    "print(x, \" to the power of \",y,\" is: \",x**y)"
   ]
  },
  {
   "cell_type": "code",
   "execution_count": null,
   "metadata": {},
   "outputs": [],
   "source": []
  }
 ],
 "metadata": {
  "kernelspec": {
   "display_name": "Python 3",
   "language": "python",
   "name": "python3"
  },
  "language_info": {
   "codemirror_mode": {
    "name": "ipython",
    "version": 3
   },
   "file_extension": ".py",
   "mimetype": "text/x-python",
   "name": "python",
   "nbconvert_exporter": "python",
   "pygments_lexer": "ipython3",
   "version": "3.7.6"
  }
 },
 "nbformat": 4,
 "nbformat_minor": 4
}
